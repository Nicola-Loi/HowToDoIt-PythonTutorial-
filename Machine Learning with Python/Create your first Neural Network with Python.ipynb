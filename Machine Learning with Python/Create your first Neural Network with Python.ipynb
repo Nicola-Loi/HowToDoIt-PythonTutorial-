{
 "cells": [
  {
   "cell_type": "markdown",
   "metadata": {},
   "source": [
    "# *Create your First Neural Network*"
   ]
  },
  {
   "cell_type": "code",
   "execution_count": 3,
   "metadata": {},
   "outputs": [
    {
     "name": "stdout",
     "output_type": "stream",
     "text": [
      "Downloading data from https://storage.googleapis.com/tensorflow/tf-keras-datasets/train-labels-idx1-ubyte.gz\n",
      "32768/29515 [=================================] - 0s 1us/step\n",
      "Downloading data from https://storage.googleapis.com/tensorflow/tf-keras-datasets/train-images-idx3-ubyte.gz\n",
      "26427392/26421880 [==============================] - 5s 0us/step\n",
      "Downloading data from https://storage.googleapis.com/tensorflow/tf-keras-datasets/t10k-labels-idx1-ubyte.gz\n",
      "8192/5148 [===============================================] - 0s 0s/step\n",
      "Downloading data from https://storage.googleapis.com/tensorflow/tf-keras-datasets/t10k-images-idx3-ubyte.gz\n",
      "4423680/4422102 [==============================] - 1s 0us/step\n"
     ]
    }
   ],
   "source": [
    "import tensorflow as tf\n",
    "from tensorflow import keras\n",
    "\n",
    "(xtrain, ytrain),(xval,yval) = keras.datasets.fashion_mnist.load_data()"
   ]
  },
  {
   "cell_type": "code",
   "execution_count": 4,
   "metadata": {},
   "outputs": [],
   "source": [
    "def preprocess(x, y):\n",
    "    x = tf.cast(x, tf.float32) / 255.0\n",
    "    y = tf.cast(y, tf.int64)\n",
    "    return x,y\n",
    "\n",
    "def create_dataset(xs, ys, n_classes=10):\n",
    "    ys = tf.one_hot(ys, depth=n_classes)\n",
    "    return tf.data.Dataset.from_tensor_slices((xs, ys)).map(preprocess).shuffle(len(ys)).batch(128)"
   ]
  },
  {
   "cell_type": "code",
   "execution_count": 5,
   "metadata": {},
   "outputs": [],
   "source": [
    "train_dataset = create_dataset(xtrain, ytrain)\n",
    "val_dataset = create_dataset(xval, yval)"
   ]
  },
  {
   "cell_type": "code",
   "execution_count": 6,
   "metadata": {},
   "outputs": [],
   "source": [
    "model = keras.Sequential([\n",
    "    keras.layers.Reshape(target_shape=(28*28,), input_shape=(28,28)),\n",
    "    keras.layers.Dense(units=256, activation='relu'),\n",
    "    keras.layers.Dense(units=192, activation='relu'),\n",
    "    keras.layers.Dense(units=128, activation='relu'),\n",
    "    keras.layers.Dense(units=10, activation='softmax')\n",
    "    \n",
    "])"
   ]
  },
  {
   "cell_type": "code",
   "execution_count": 7,
   "metadata": {},
   "outputs": [
    {
     "name": "stdout",
     "output_type": "stream",
     "text": [
      "Epoch 1/10\n",
      "500/500 [==============================] - 9s 18ms/step - loss: 1.7243 - accuracy: 0.7417 - val_loss: 1.6963 - val_accuracy: 0.7617\n",
      "Epoch 2/10\n",
      "500/500 [==============================] - 8s 16ms/step - loss: 1.6810 - accuracy: 0.7803 - val_loss: 1.6378 - val_accuracy: 0.8203\n",
      "Epoch 3/10\n",
      "500/500 [==============================] - 8s 17ms/step - loss: 1.6682 - accuracy: 0.7926 - val_loss: 1.6275 - val_accuracy: 0.8320\n",
      "Epoch 4/10\n",
      "500/500 [==============================] - 8s 15ms/step - loss: 1.6641 - accuracy: 0.7969 - val_loss: 1.6579 - val_accuracy: 0.8008\n",
      "Epoch 5/10\n",
      "500/500 [==============================] - 8s 15ms/step - loss: 1.6562 - accuracy: 0.8043 - val_loss: 1.6580 - val_accuracy: 0.8047\n",
      "Epoch 6/10\n",
      "500/500 [==============================] - 8s 15ms/step - loss: 1.6545 - accuracy: 0.8062 - val_loss: 1.6662 - val_accuracy: 0.7969\n",
      "Epoch 7/10\n",
      "500/500 [==============================] - 8s 16ms/step - loss: 1.6548 - accuracy: 0.8059 - val_loss: 1.6453 - val_accuracy: 0.8164\n",
      "Epoch 8/10\n",
      "500/500 [==============================] - 8s 15ms/step - loss: 1.6520 - accuracy: 0.8088 - val_loss: 1.6431 - val_accuracy: 0.8203\n",
      "Epoch 9/10\n",
      "500/500 [==============================] - 8s 16ms/step - loss: 1.6481 - accuracy: 0.8128 - val_loss: 1.6697 - val_accuracy: 0.7930\n",
      "Epoch 10/10\n",
      "500/500 [==============================] - 8s 16ms/step - loss: 1.6507 - accuracy: 0.8098 - val_loss: 1.6668 - val_accuracy: 0.7969\n"
     ]
    }
   ],
   "source": [
    "model.compile(optimizer='adam',\n",
    "             loss=tf.losses.CategoricalCrossentropy(from_logits=True),\n",
    "             metrics=['accuracy'])\n",
    "\n",
    "history=model.fit(train_dataset.repeat(),\n",
    "                 epochs=10,\n",
    "                 steps_per_epoch=500,\n",
    "                 validation_data=val_dataset.repeat(),\n",
    "                 validation_steps=2)"
   ]
  },
  {
   "cell_type": "code",
   "execution_count": null,
   "metadata": {},
   "outputs": [],
   "source": [
    "pre"
   ]
  }
 ],
 "metadata": {
  "kernelspec": {
   "display_name": "Python 3",
   "language": "python",
   "name": "python3"
  },
  "language_info": {
   "codemirror_mode": {
    "name": "ipython",
    "version": 3
   },
   "file_extension": ".py",
   "mimetype": "text/x-python",
   "name": "python",
   "nbconvert_exporter": "python",
   "pygments_lexer": "ipython3",
   "version": "3.8.3"
  }
 },
 "nbformat": 4,
 "nbformat_minor": 4
}
