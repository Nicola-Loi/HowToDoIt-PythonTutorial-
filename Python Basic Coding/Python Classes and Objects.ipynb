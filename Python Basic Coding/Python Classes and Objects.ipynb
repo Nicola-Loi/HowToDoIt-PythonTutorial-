{
 "cells": [
  {
   "cell_type": "markdown",
   "metadata": {},
   "source": [
    "# *Python Classes and Objects*"
   ]
  },
  {
   "cell_type": "markdown",
   "metadata": {},
   "source": [
    "## 1. Create a Simple Class"
   ]
  },
  {
   "cell_type": "code",
   "execution_count": 1,
   "metadata": {},
   "outputs": [
    {
     "name": "stdout",
     "output_type": "stream",
     "text": [
      "5\n"
     ]
    }
   ],
   "source": [
    "# Create a class with a property\n",
    "class MyClass:\n",
    "    #Add a property\n",
    "    x = 5\n",
    "    \n",
    "#Create an object using the Class\n",
    "p1 = MyClass()\n",
    "#Use the object to print the property\n",
    "print(p1.x)"
   ]
  },
  {
   "cell_type": "markdown",
   "metadata": {},
   "source": [
    "## 2. Create a Class with __init__() Function"
   ]
  },
  {
   "cell_type": "markdown",
   "metadata": {},
   "source": [
    "The built-in function contain a self parameter that will be used for reference to the current instance of the class and is used to access variables that belongs to the class."
   ]
  },
  {
   "cell_type": "code",
   "execution_count": 3,
   "metadata": {},
   "outputs": [
    {
     "name": "stdout",
     "output_type": "stream",
     "text": [
      "Jhon\n",
      "36\n"
     ]
    }
   ],
   "source": [
    "class Person:\n",
    "    # Create the built-in function to assign values to object properties\n",
    "    def __init__(self, name, age):\n",
    "        # Add properties\n",
    "        self.name = name\n",
    "        self.age = age\n",
    "\n",
    "#Create a class object and pass values\n",
    "p1 = Person('Jhon', 36)\n",
    "#Use the object to print values assigned\n",
    "print(p1.name)\n",
    "print(p1.age)"
   ]
  },
  {
   "cell_type": "markdown",
   "metadata": {},
   "source": [
    "# 3. Add a method to a Class"
   ]
  },
  {
   "cell_type": "code",
   "execution_count": 9,
   "metadata": {},
   "outputs": [
    {
     "name": "stdout",
     "output_type": "stream",
     "text": [
      " Hello my Name is Lello\n"
     ]
    }
   ],
   "source": [
    "class Person:\n",
    "    def __init__(self, name, age):\n",
    "        self.name = name\n",
    "        self.age = age\n",
    "    \n",
    "    # Insert a method into the Person class\n",
    "    def myfunc(self):\n",
    "        print(\" Hello my Name is \"+self.name)\n",
    "\n",
    "# Create an object class and pass values\n",
    "p1 = Person('Lello', 15)\n",
    "# Use object to recall a method\n",
    "p1.myfunc()"
   ]
  },
  {
   "cell_type": "markdown",
   "metadata": {},
   "source": [
    "# 4. Modify and Delete Object Properties"
   ]
  },
  {
   "cell_type": "code",
   "execution_count": 11,
   "metadata": {},
   "outputs": [
    {
     "name": "stdout",
     "output_type": "stream",
     "text": [
      " Hello my Name is Sandro\n"
     ]
    }
   ],
   "source": [
    "# Modify name property of p1 object\n",
    "p1.name = \"Sandro\"\n",
    "p1.myfunc()"
   ]
  },
  {
   "cell_type": "code",
   "execution_count": 13,
   "metadata": {},
   "outputs": [
    {
     "ename": "AttributeError",
     "evalue": "name",
     "output_type": "error",
     "traceback": [
      "\u001b[1;31m---------------------------------------------------------------------------\u001b[0m",
      "\u001b[1;31mAttributeError\u001b[0m                            Traceback (most recent call last)",
      "\u001b[1;32m<ipython-input-13-a04fda0be596>\u001b[0m in \u001b[0;36m<module>\u001b[1;34m\u001b[0m\n\u001b[0;32m      1\u001b[0m \u001b[1;31m#Delete the name property\u001b[0m\u001b[1;33m\u001b[0m\u001b[1;33m\u001b[0m\u001b[1;33m\u001b[0m\u001b[0m\n\u001b[1;32m----> 2\u001b[1;33m \u001b[1;32mdel\u001b[0m \u001b[0mp1\u001b[0m\u001b[1;33m.\u001b[0m\u001b[0mname\u001b[0m\u001b[1;33m\u001b[0m\u001b[1;33m\u001b[0m\u001b[0m\n\u001b[0m\u001b[0;32m      3\u001b[0m \u001b[1;31m#Because name is been deleted call a method will occur an Error\u001b[0m\u001b[1;33m\u001b[0m\u001b[1;33m\u001b[0m\u001b[1;33m\u001b[0m\u001b[0m\n\u001b[0;32m      4\u001b[0m \u001b[0mp1\u001b[0m\u001b[1;33m.\u001b[0m\u001b[0mmyfunc\u001b[0m\u001b[1;33m(\u001b[0m\u001b[1;33m)\u001b[0m\u001b[1;33m\u001b[0m\u001b[1;33m\u001b[0m\u001b[0m\n",
      "\u001b[1;31mAttributeError\u001b[0m: name"
     ]
    }
   ],
   "source": [
    "#Delete the name property\n",
    "del p1.name\n",
    "#Because name is been deleted call a method will occur an Error\n",
    "p1.myfunc()"
   ]
  },
  {
   "cell_type": "markdown",
   "metadata": {},
   "source": [
    "## 5. Python Inheritance"
   ]
  },
  {
   "cell_type": "markdown",
   "metadata": {},
   "source": [
    "Python inheritance allow us to inherit all methods and properties from another class. <br>\n",
    "In order to do this we must choose a Parent Class and a ChildClass that will inherit methods and properties from Parent Class."
   ]
  },
  {
   "cell_type": "code",
   "execution_count": 17,
   "metadata": {},
   "outputs": [
    {
     "name": "stdout",
     "output_type": "stream",
     "text": [
      "Jhon Potter\n"
     ]
    }
   ],
   "source": [
    "# Create a Parent Class\n",
    "class Person:\n",
    "    #Create a built-in function\n",
    "    def __init__(self, fname, lname):\n",
    "        self.fname = fname\n",
    "        self.lname = lname\n",
    "    \n",
    "    #Create a class method\n",
    "    def printname(self):\n",
    "        print(self.fname, self.lname)\n",
    "        \n",
    "#Create an object a pass values\n",
    "p1 = Person('Jhon', 'Potter')\n",
    "p1.printname()"
   ]
  },
  {
   "cell_type": "code",
   "execution_count": 18,
   "metadata": {},
   "outputs": [
    {
     "name": "stdout",
     "output_type": "stream",
     "text": [
      "Andy Warner\n"
     ]
    }
   ],
   "source": [
    "#Create a Child Class with Person Parent Class as parameter\n",
    "class Student(Person):\n",
    "    #Simple passing Person methods and object\n",
    "    pass\n",
    "\n",
    "#Create a Student Object\n",
    "x = Student('Andy','Warner')\n",
    "x.printname()"
   ]
  },
  {
   "cell_type": "code",
   "execution_count": 23,
   "metadata": {},
   "outputs": [
    {
     "name": "stdout",
     "output_type": "stream",
     "text": [
      "All infos using Parent and Child are:  Jhon Sun 2022\n"
     ]
    }
   ],
   "source": [
    "# Create a Child CLass with a built-in function\n",
    "class Student(Person):\n",
    "    #Create the built-in method that inherit from Parent class\n",
    "    def __init__(self, fname, lname, year):\n",
    "        #Recall Person \n",
    "        #Person.__init__(self, fname, lname)\n",
    "        #Use super()\n",
    "        super().__init__(fname, lname)\n",
    "        #Add a property to the child class\n",
    "        self.graduationyear = year\n",
    "    \n",
    "    def printinfo(self):\n",
    "        print(\"All infos using Parent and Child are: \", self.fname, self.lname, self.graduationyear)\n",
    "\n",
    "#Create an object and pass values\n",
    "p1 = Student('Jhon','Sun','2022')\n",
    "#Recall a method from a class\n",
    "p1.printinfo()"
   ]
  }
 ],
 "metadata": {
  "kernelspec": {
   "display_name": "Python 3",
   "language": "python",
   "name": "python3"
  },
  "language_info": {
   "codemirror_mode": {
    "name": "ipython",
    "version": 3
   },
   "file_extension": ".py",
   "mimetype": "text/x-python",
   "name": "python",
   "nbconvert_exporter": "python",
   "pygments_lexer": "ipython3",
   "version": "3.8.3"
  }
 },
 "nbformat": 4,
 "nbformat_minor": 4
}
